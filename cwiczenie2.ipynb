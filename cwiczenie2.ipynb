{
 "cells": [
  {
   "cell_type": "markdown",
   "metadata": {},
   "source": [
    "# Cyfrowe przetwarzanie obrazów i sygnałów\n",
    "## Ćwiczenie 2  \n",
    "Celem ćwiczenia jest praktyczne wypróbowanie funkcji numpy.ffti numpy.ifft do wyznaczania prostej i odwrotnej transformaty Fouriera [1, 3].\n",
    "### Autorzy: \n",
    " Kinga Marek 235 280,  \n",
    " Mariusz Wiśniewski 241393"
   ]
  },
  {
   "cell_type": "markdown",
   "metadata": {},
   "source": [
    "# NOTES\n",
    "TODO:\n",
    "* not sure what to do about plots scaling (sometimes it is required to sample [0, fs/2])\n",
    "* improve positions of labels and titles on plots\n",
    "* ideas regarding my note in ex 4. ?\n",
    "* after re-running second cell in ex 4. errors occurs :(\n",
    "* errors in the last exercise (although it works well)\n",
    "* any ideas for making this code shorter on cleaner? :)\n"
   ]
  },
  {
   "cell_type": "markdown",
   "metadata": {},
   "source": [
    "Wybacz mix polsko-angielskiego, ale część komentarzy w kodzie pierwotnie była po angielsku, a dokumentacja tutaj raczej w ten sposób nie przejdzie.."
   ]
  },
  {
   "cell_type": "markdown",
   "metadata": {},
   "source": [
    "### Zadanie 1  \n",
    "Wygeneruj ciąg próbek odpowiadający fali sinusoidalnej o częstotliwości 50 Hz i długości 65536.\n",
    "\n",
    "\n"
   ]
  },
  {
   "cell_type": "code",
   "execution_count": null,
   "metadata": {},
   "outputs": [],
   "source": [
    "import matplotlib.pyplot as plt\n",
    "import numpy as np \n",
    "\n",
    "frequency = 50 # signal frequency\n",
    "sample_length = 65536\n",
    "fs = 65536  # sampling frequency\n",
    "signal_duration = sample_length/fs\n",
    "time_step = 1/fs\n",
    "\n",
    "x_axis = np.arange(0, signal_duration, time_step)\n",
    "y_axis = np.sin(2 * np.pi * frequency * x_axis)\n",
    "\n",
    "plt.plot(x_axis, y_axis)\n",
    "plt.title('Signal')\n",
    "plt.xlabel('Time [s]')\n",
    "plt.ylabel('Amplitude')\n",
    "plt.show()"
   ]
  },
  {
   "cell_type": "markdown",
   "metadata": {},
   "source": [
    "### Zadanie 2  \n",
    "Wyznacz dyskretną transformatę Fouriera tego sygnału i przedstaw jego widmo\n",
    "amplitudowe na wykresie w zakresie częstotliwości [0, fs/2], \n",
    "gdzie fs oznacza częstotliwość próbkowania."
   ]
  },
  {
   "cell_type": "code",
   "execution_count": null,
   "metadata": {},
   "outputs": [],
   "source": [
    "fft_freq = np.abs(np.fft.fftfreq(int(fs/2), time_step))\n",
    "fft_amplitude = np.abs(np.fft.fft(y_axis[0:fft_freq.size]))\n",
    "\n",
    "# NOTE: the disared frequency = 50Hz is not visible at the start \n",
    "# but if you zoom in you will see the peak\n",
    "\n",
    "plt.plot(fft_freq, fft_amplitude)\n",
    "plt.title('Signal frequency spectrum')\n",
    "plt.xlabel('Frequency [Hz]')\n",
    "plt.ylabel('Amplitude')\n",
    "plt.show()"
   ]
  },
  {
   "cell_type": "markdown",
   "metadata": {},
   "source": [
    "##### Zadanie 3  \n",
    "Wygeneruj ciąg próbek mieszaniny dwóch fal sinusoidalnych (tzn. ich kombinacjiliniowej) o częstotliwościach 50 i 60 Hz.  Wykonaj zadanie z punktu 2 dla tego sygnału."
   ]
  },
  {
   "cell_type": "code",
   "execution_count": null,
   "metadata": {},
   "outputs": [],
   "source": [
    "frequency_1 = 50\n",
    "frequency_2 = 60\n",
    "\n",
    "time_samples = np.arange(0, signal_duration, time_step)\n",
    "sample_1 = np.sin(2 * np.pi * frequency_1 * time_samples)\n",
    "sample_2 = np.sin(2 * np.pi * frequency_2 * time_samples)\n",
    "samples_sum = sample_1 + sample_2\n",
    "\n",
    "\n",
    "plt.subplot(311)\n",
    "plt.plot(time_samples, sample_1)\n",
    "plt.title('Frequency {} Hz'.format(frequency_1))\n",
    "plt.xlabel('Time [s]')\n",
    "plt.ylabel('Amplitude')\n",
    "\n",
    "plt.subplot(312)\n",
    "plt.plot(time_samples, sample_2)\n",
    "plt.title('Frequency {} Hz'.format(frequency_2))\n",
    "plt.xlabel('Time [s]')\n",
    "plt.ylabel('Amplitude')\n",
    "\n",
    "plt.subplot(313)\n",
    "plt.plot(time_samples, samples_sum)\n",
    "plt.xlabel('Time [s]')\n",
    "plt.ylabel('Amplitude')\n",
    "\n",
    "plt.show()"
   ]
  },
  {
   "cell_type": "code",
   "execution_count": null,
   "metadata": {},
   "outputs": [],
   "source": [
    "fft_freq = np.abs(np.fft.fftfreq(int(fs/2), time_step))\n",
    "fft_amplitude = np.abs(np.fft.fft(samples_sum[0:fft_freq.size]))\n",
    "\n",
    "plt.subplot(211)\n",
    "plt.plot(time_samples, samples_sum)\n",
    "plt.xlabel('Time [s]')\n",
    "plt.ylabel('Amplitude')\n",
    "\n",
    "plt.subplot(212)\n",
    "plt.plot(fft_freq, fft_amplitude)\n",
    "plt.xlabel('Frequency [Hz]', labelpad=5)\n",
    "plt.ylabel('Amplitude')\n",
    "\n",
    "# NOTE: the disared frequencies = [50, 60] Hz are not visible at the start \n",
    "# but if you zoom in you will see the peaks\n",
    "\n",
    "plt.show()"
   ]
  },
  {
   "cell_type": "markdown",
   "metadata": {},
   "source": [
    "### Zadanie 4  \n",
    "Powtórz eksperymenty dla różnych czasów trwania sygnałów,\n",
    "tzn. dla różnych częstotliwości próbkowania."
   ]
  },
  {
   "cell_type": "code",
   "execution_count": null,
   "metadata": {
    "scrolled": false
   },
   "outputs": [],
   "source": [
    "def get_signal_duration(f_s):\n",
    "    return sample_length/f_s\n",
    "\n",
    "def get_time_step(f_s):\n",
    "    return 1/f_s\n",
    "\n",
    "def create_x_axis(f_s):\n",
    "    return np.arange(0, get_signal_duration(f_s), get_time_step(f_s))\n",
    "\n",
    "def create_y_axis(freq, x):\n",
    "    y = np.zeros(x.size)\n",
    "    for f in freq:\n",
    "        y += np.sin(2 * np.pi * f * x)\n",
    "    return y\n",
    "\n",
    "\n",
    "fs = [50, 100, 500, 10000]\n",
    "signals_frequencies = [[50], [50, 100], [50, 100, 200]]"
   ]
  },
  {
   "cell_type": "code",
   "execution_count": null,
   "metadata": {
    "scrolled": false
   },
   "outputs": [],
   "source": [
    "for signals_freq in signals_frequencies:\n",
    "    time = create_x_axis(fs[0])\n",
    "    \n",
    "    plt.subplot(511)\n",
    "    plt.plot(time, create_y_axis(signals_freq, time/fs[0]))\n",
    "    # NOTE: still don't know why i need here to devide by fs[0]\n",
    "    # it's implemented exactly the same as in 1) where it works perfectly :(\n",
    "    plt.title('Signal')\n",
    "    plt.xlabel('Time [s]', labelpad=5)\n",
    "    plt.ylabel('Amplitude')\n",
    "    \n",
    "    fft_freq = np.abs(np.fft.fftfreq(int(fs[0] / 2), get_time_step(fs[0])))\n",
    "    fft_amplitude = np.abs(np.fft.fft(create_y_axis(signals_freq, time)[0:fft_freq.size]))\n",
    "\n",
    "    plt.subplot(512)\n",
    "    plt.plot(fft_freq, fft_amplitude)\n",
    "    plt.title('Fs {} Hz'.format(fs[0]))\n",
    "    plt.xlabel('Frequency [Hz]', labelpad=5)\n",
    "    plt.ylabel('Amplitude')\n",
    "\n",
    "    fft_freq = np.abs(np.fft.fftfreq(int(fs[1] / 2), get_time_step(fs[1])))\n",
    "    time = create_x_axis(fs[1])\n",
    "    fft_amplitude = np.abs(np.fft.fft(create_y_axis(signals_freq, time)[0:fft_freq.size]))\n",
    "\n",
    "    plt.subplot(513)\n",
    "    plt.plot(fft_freq, fft_amplitude)\n",
    "    plt.title('Fs {} Hz'.format(fs[1]))\n",
    "    plt.xlabel('Frequency [Hz]', labelpad=5)\n",
    "    plt.ylabel('Amplitude')\n",
    "\n",
    "    fft_freq = np.abs(np.fft.fftfreq(int(fs[2] / 2), get_time_step(fs[2])))\n",
    "    time = create_x_axis(fs[2])\n",
    "    fft_amplitude = np.abs(np.fft.fft(create_y_axis(signals_freq, time)[0:fft_freq.size]))\n",
    "\n",
    "    plt.subplot(514)\n",
    "    plt.plot(fft_freq, fft_amplitude)\n",
    "    plt.title('Fs {} Hz'.format(fs[2]))\n",
    "    plt.xlabel('Frequency [Hz]', labelpad=5)\n",
    "    plt.ylabel('Amplitude')\n",
    "\n",
    "    fft_freq = np.abs(np.fft.fftfreq(int(fs[3] / 2), get_time_step(fs[3])))\n",
    "    time = create_x_axis(fs[3])\n",
    "    fft_amplitude = np.abs(np.fft.fft(create_y_axis(signals_freq, time)[0:fft_freq.size]))\n",
    "\n",
    "    plt.subplot(515)\n",
    "    plt.plot(fft_freq, fft_amplitude)\n",
    "    plt.title('Fs {} Hz'.format(fs[3]))\n",
    "    plt.xlabel('Frequency [Hz]', labelpad=5)\n",
    "    plt.ylabel('Amplitude')\n",
    "\n",
    "    # NOTE: to disable scrollable matlplotlib output\n",
    "    # choose from main menu Cell->Current Outputs->Toggle scrolling\n",
    "    \n",
    "    plt.show()"
   ]
  },
  {
   "cell_type": "markdown",
   "metadata": {},
   "source": [
    "### Zadanie 5  \n",
    "Wyznacz odwrotne transformaty Fouriera ciągów wyznaczonych w zadaniu 2\n",
    "i porównaj z ciągami oryginalnymi."
   ]
  },
  {
   "cell_type": "code",
   "execution_count": null,
   "metadata": {},
   "outputs": [],
   "source": [
    "fs = 65536\n",
    "\n",
    "# for signal in ex 1. - 50Hz\n",
    "\n",
    "fft_freq = np.abs(np.fft.fftfreq(int(fs/2), time_step))\n",
    "fft_amplitude = np.abs(np.fft.fft(y_axis[0:fft_freq.size]))\n",
    "\n",
    "plt.subplot(311)\n",
    "plt.plot(x_axis[0:fft_freq.size], y_axis[0:fft_freq.size])\n",
    "plt.title('Signal')\n",
    "plt.xlabel('Time [s]')\n",
    "plt.ylabel('Amplitude')\n",
    "\n",
    "plt.subplot(312)\n",
    "plt.plot(fft_freq, fft_amplitude)\n",
    "plt.title('Signal frequency spectrum')\n",
    "plt.xlabel('Frequency [Hz]')\n",
    "plt.ylabel('Amplitude')\n",
    "\n",
    "inv_samples_sum = np.fft.ifft(fft_amplitude)\n",
    "\n",
    "plt.subplot(313)\n",
    "plt.plot(x_axis[0:inv_samples_sum.size], inv_samples_sum)\n",
    "plt.title('Signal after inverse fourier transform')\n",
    "plt.xlabel('Time [s]')\n",
    "plt.ylabel('Amplitude')\n",
    "plt.show()"
   ]
  },
  {
   "cell_type": "code",
   "execution_count": null,
   "metadata": {},
   "outputs": [],
   "source": [
    " # for signal in ex 2. - 50Hz + 60Hz\n",
    "\n",
    "fft_amplitude = np.abs(np.fft.fft(samples_sum[0:fft_freq.size]))\n",
    "\n",
    "plt.subplot(311)\n",
    "plt.plot(time_samples[0:fft_freq.size], samples_sum[0:fft_freq.size])\n",
    "plt.title('Signal')\n",
    "plt.xlabel('Time [s]')\n",
    "plt.ylabel('Amplitude')\n",
    "\n",
    "plt.subplot(312)\n",
    "plt.plot(fft_freq, fft_amplitude)\n",
    "plt.title('Signal frequency spectrum')\n",
    "plt.xlabel('Frequency [Hz]')\n",
    "plt.ylabel('Amplitude')\n",
    "\n",
    "inv_samples_sum = np.fft.ifft(fft_amplitude)\n",
    "\n",
    "plt.subplot(313)\n",
    "plt.plot(time_samples[0:inv_samples_sum.size], inv_samples_sum)\n",
    "plt.title('Signal after inverse fourier transform')\n",
    "plt.xlabel('Time [s]')\n",
    "plt.ylabel('Amplitude')\n",
    "plt.show()"
   ]
  },
  {
   "cell_type": "code",
   "execution_count": null,
   "metadata": {},
   "outputs": [],
   "source": []
  }
 ],
 "metadata": {
  "kernelspec": {
   "display_name": "Python 3",
   "language": "python",
   "name": "python3"
  },
  "language_info": {
   "codemirror_mode": {
    "name": "ipython",
    "version": 3
   },
   "file_extension": ".py",
   "mimetype": "text/x-python",
   "name": "python",
   "nbconvert_exporter": "python",
   "pygments_lexer": "ipython3",
   "version": "3.8.2"
  }
 },
 "nbformat": 4,
 "nbformat_minor": 4
}
