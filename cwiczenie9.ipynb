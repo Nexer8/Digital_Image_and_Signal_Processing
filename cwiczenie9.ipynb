{
 "cells": [
  {
   "cell_type": "markdown",
   "metadata": {},
   "source": [
    "# Cyfrowe przetwarzanie obrazów i sygnałów\n",
    "## Ćwiczenie 9  \n",
    "Celem ćwiczenia jest zastosowanie filtracji górnoprzepustowej w celu wykrywania krawędzi na przykładowych obrazach.\n",
    "### Autorzy: \n",
    " Kinga Marek 235 280,  \n",
    " Mariusz Wiśniewski 241 393"
   ]
  },
  {
   "cell_type": "markdown",
   "metadata": {},
   "source": [
    "Biblioteki wykorzystane w ćwiczeniu:"
   ]
  },
  {
   "cell_type": "code",
   "execution_count": null,
   "metadata": {},
   "outputs": [],
   "source": [
    "import os\n",
    "import skimage\n",
    "from skimage import io, filters\n",
    "from matplotlib.pyplot import subplot, imshow, title, show, rcParams\n",
    "from skimage.color import rgb2gray\n",
    "import numpy as np\n",
    "rcParams['figure.figsize'] = [10, 10]"
   ]
  },
  {
   "cell_type": "markdown",
   "metadata": {},
   "source": [
    "Załadowanie obrazu:"
   ]
  },
  {
   "cell_type": "code",
   "execution_count": null,
   "metadata": {},
   "outputs": [],
   "source": [
    "image = rgb2gray(io.imread(os.path.join(skimage.data_dir, 'chelsea.png')))"
   ]
  },
  {
   "cell_type": "markdown",
   "metadata": {},
   "source": [
    "### Zadanie 1\n",
    "Użyj filtra z maską Sobela do wykrywania krawędzi."
   ]
  },
  {
   "cell_type": "code",
   "execution_count": null,
   "metadata": {},
   "outputs": [],
   "source": [
    "# a) Sobel filter usage\n",
    "sobel = filters.sobel(image)\n",
    "\n",
    "subplot(121), imshow(image, cmap='gray'), title('Original')\n",
    "subplot(122), imshow(sobel, cmap='gray'), title('Filtered with Sobel filter')\n",
    "show()"
   ]
  },
  {
   "cell_type": "markdown",
   "metadata": {},
   "source": [
    "Dodatkowo, zastosowano również filtr Prewitta:"
   ]
  },
  {
   "cell_type": "code",
   "execution_count": null,
   "metadata": {},
   "outputs": [],
   "source": [
    "# Prewitt filter usage\n",
    "prewitt = filters.prewitt(image)\n",
    "\n",
    "subplot(121), imshow(image, cmap='gray'), title('Original')\n",
    "subplot(122), imshow(prewitt, cmap='gray'), title('Filtered with Prewitt filter')\n",
    "show()"
   ]
  },
  {
   "cell_type": "markdown",
   "metadata": {},
   "source": [
    "### Zadanie 2\n",
    "Zaobserwuj działanie Laplasjanu do wyostrzania szczegółów"
   ]
  },
  {
   "cell_type": "code",
   "execution_count": null,
   "metadata": {},
   "outputs": [],
   "source": [
    "# b) Sharpening with Laplacian\n",
    "sharpened = np.clip(filters.laplace(image) + image, 0, 1)\n",
    "\n",
    "subplot(121), imshow(image, cmap='gray'), title('Original')\n",
    "subplot(122), imshow(sharpened, cmap='gray'), title('Sharpened with Laplacian')\n",
    "show()"
   ]
  }
 ],
 "metadata": {
  "kernelspec": {
   "display_name": "Python 3",
   "language": "python",
   "name": "python3"
  },
  "language_info": {
   "codemirror_mode": {
    "name": "ipython",
    "version": 3
   },
   "file_extension": ".py",
   "mimetype": "text/x-python",
   "name": "python",
   "nbconvert_exporter": "python",
   "pygments_lexer": "ipython3",
   "version": "3.8.3"
  }
 },
 "nbformat": 4,
 "nbformat_minor": 4
}
