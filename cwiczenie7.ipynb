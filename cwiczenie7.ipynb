{
 "cells": [
  {
   "cell_type": "markdown",
   "metadata": {},
   "source": [
    "# Cyfrowe przetwarzanie obrazów i sygnałów\n",
    "## Ćwiczenie 7  \n",
    "Celem ćwiczenia jest wypróbowanie działania wyrównywania histogramu na przykładowych obrazach.\n",
    "### Autorzy: \n",
    " Kinga Marek 235 280,  \n",
    " Mariusz Wiśniewski 241 393"
   ]
  },
  {
   "cell_type": "markdown",
   "metadata": {},
   "source": [
    "### Zadanie 1\n",
    "Wypróbuj działanie wyrównywania histogramu na przykładowych\n",
    "obrazach. By zaobserwować skuteczność procedury, poddaj wyrównywaniu obrazy\n",
    "zbyt ciemne i zbyt jasne. Narysować histogramy obrazów przed i po wyrównaniu."
   ]
  },
  {
   "cell_type": "markdown",
   "metadata": {},
   "source": [
    "Biblioteki wykorzystane w ćwiczeniu:"
   ]
  },
  {
   "cell_type": "code",
   "execution_count": null,
   "metadata": {
    "scrolled": true
   },
   "outputs": [],
   "source": [
    "%matplotlib inline\n",
    "import os\n",
    "import skimage\n",
    "from skimage import io\n",
    "from matplotlib.pyplot import subplot, imshow, title, show, savefig, hist, subplots_adjust, rcParams\n",
    "from skimage.exposure import equalize_hist\n",
    "import numpy as np\n",
    "rcParams['figure.figsize'] = [10, 10]"
   ]
  },
  {
   "cell_type": "markdown",
   "metadata": {},
   "source": [
    "Załadowanie obrazu o małym kontraście:"
   ]
  },
  {
   "cell_type": "code",
   "execution_count": null,
   "metadata": {
    "scrolled": true
   },
   "outputs": [],
   "source": [
    "low_contrast_image = io.imread(os.path.join(skimage.data_dir, 'moon.png'))   # low contrast image"
   ]
  },
  {
   "cell_type": "markdown",
   "metadata": {},
   "source": [
    "Załadowanie obrazu o dużym kontraście:"
   ]
  },
  {
   "cell_type": "code",
   "execution_count": null,
   "metadata": {
    "scrolled": true
   },
   "outputs": [],
   "source": [
    "high_contrast_image = io.imread('./Data/images/too_bright.png')   # high contrast image"
   ]
  },
  {
   "cell_type": "markdown",
   "metadata": {},
   "source": [
    "Wyrównywanie kontrastu dla obu obrazów:"
   ]
  },
  {
   "cell_type": "code",
   "execution_count": null,
   "metadata": {
    "scrolled": true
   },
   "outputs": [],
   "source": [
    "low_contrast_equalized = np.asarray(equalize_hist(low_contrast_image) * 255, dtype='uint8')\n",
    "high_contrast_equalized = np.asarray(equalize_hist(high_contrast_image) * 255, dtype='uint8')"
   ]
  },
  {
   "cell_type": "markdown",
   "metadata": {},
   "source": [
    "Wyświetlenie wyników:"
   ]
  },
  {
   "cell_type": "code",
   "execution_count": null,
   "metadata": {
    "scrolled": true
   },
   "outputs": [],
   "source": [
    "subplot(241), imshow(low_contrast_image, cmap='gray'), title('Low contrast image')\n",
    "subplot(242), hist(low_contrast_image.flatten(), 256, range=(0, 256))\n",
    "\n",
    "subplot(243), imshow(high_contrast_image, cmap='gray'), title('High contrast image')\n",
    "subplot(244), hist(high_contrast_image.flatten(), 256, range=(0, 256))\n",
    "\n",
    "subplot(245), imshow(low_contrast_equalized, cmap='gray'), title('Equalized contrast')\n",
    "subplot(246), hist(low_contrast_equalized.flatten(), 256, range=(0, 256))\n",
    "\n",
    "subplot(247), imshow(high_contrast_equalized, cmap='gray'), title('Equalized contrast')\n",
    "subplot(248), hist(high_contrast_equalized.flatten(), 256, range=(0, 256))\n",
    "\n",
    "subplots_adjust(hspace=1.02)\n",
    "show()"
   ]
  }
 ],
 "metadata": {
  "kernelspec": {
   "display_name": "Python 3",
   "language": "python",
   "name": "python3"
  },
  "language_info": {
   "codemirror_mode": {
    "name": "ipython",
    "version": 3
   },
   "file_extension": ".py",
   "mimetype": "text/x-python",
   "name": "python",
   "nbconvert_exporter": "python",
   "pygments_lexer": "ipython3",
   "version": "3.8.3"
  }
 },
 "nbformat": 4,
 "nbformat_minor": 4
}
