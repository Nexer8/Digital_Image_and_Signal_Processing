{
 "cells": [
  {
   "cell_type": "markdown",
   "metadata": {},
   "source": [
    "# Cyfrowe przetwarzanie obrazów i sygnałów\n",
    "## Przetwarzanie obrazów\n",
    "Celem ćwiczenia jest wypróbowanie gotowych funkcji dostarczanych przez biblioteki dostępne w języku python do przetwarzania obrazów"
   ]
  },
  {
   "cell_type": "markdown",
   "metadata": {},
   "source": [
    "**Autorzy:**"
   ]
  },
  {
   "cell_type": "markdown",
   "metadata": {},
   "source": [
    "*Kinga Marek 235 280,*"
   ]
  },
  {
   "cell_type": "markdown",
   "metadata": {},
   "source": [
    " *Mariusz Wiśniewski 241 393*"
   ]
  },
  {
   "cell_type": "markdown",
   "metadata": {},
   "source": [
    "Wykorzystane biblioteki:"
   ]
  },
  {
   "cell_type": "code",
   "execution_count": null,
   "metadata": {
    "scrolled": true
   },
   "outputs": [],
   "source": [
    "%matplotlib inline\n",
    "from matplotlib.pyplot import subplot, title, show, imshow, hist, rcParams, subplots_adjust\n",
    "from skimage import data, filters\n",
    "from skimage.exposure import equalize_hist\n",
    "from scipy import misc, ndimage\n",
    "import numpy as np\n",
    "rcParams['figure.figsize'] = [10, 8]"
   ]
  },
  {
   "cell_type": "markdown",
   "metadata": {},
   "source": [
    "Automatyczne wyrównanie histogramu (equalization) polegające na poprawieniu kontrastu obrazu:"
   ]
  },
  {
   "cell_type": "code",
   "execution_count": null,
   "metadata": {
    "scrolled": false
   },
   "outputs": [],
   "source": [
    "# Image equalization\n",
    "image = data.coins()\n",
    "equalized = np.asarray(equalize_hist(image) * 255, dtype='uint8')\n",
    "\n",
    "subplot(221); imshow(image, cmap='gray'); title('Original')\n",
    "subplot(222); hist(image.flatten(), 256, range=(0, 256)); title('Histogram of original')\n",
    "subplot(223); imshow(equalized, cmap='gray'); title('Enhanced contrast')\n",
    "subplot(224); hist(equalized.flatten(), 256, range=(0, 256)); title('Histogram of equalilzed')\n",
    "\n",
    "subplots_adjust(hspace=1.02)\n",
    "show()"
   ]
  },
  {
   "cell_type": "markdown",
   "metadata": {},
   "source": [
    "Wykorzystanie filtru Sobela używanego do wykrywania krawędzi:"
   ]
  },
  {
   "cell_type": "code",
   "execution_count": null,
   "metadata": {
    "scrolled": true
   },
   "outputs": [],
   "source": [
    "# Sobel filter usage\n",
    "image = data.coins()\n",
    "filtered = filters.sobel(image)\n",
    "\n",
    "subplot(121); imshow(image, cmap='gray'); title('Original')\n",
    "subplot(122); imshow(filtered, cmap='gray'); title('Filtered with Sobel filter')\n",
    "show()"
   ]
  },
  {
   "cell_type": "markdown",
   "metadata": {},
   "source": [
    "Wykorzystanie filtru Prewitta używanego do wykrywania krawędzi:"
   ]
  },
  {
   "cell_type": "code",
   "execution_count": null,
   "metadata": {
    "scrolled": true
   },
   "outputs": [],
   "source": [
    "# Prewitt filter usage\n",
    "image = data.coins()\n",
    "filtered = filters.prewitt(image)\n",
    "\n",
    "subplot(121); imshow(image, cmap='gray'); title('Original')\n",
    "subplot(122); imshow(filtered, cmap='gray'); title('Filtered with Prewitt filter')\n",
    "show()"
   ]
  },
  {
   "cell_type": "markdown",
   "metadata": {},
   "source": [
    "Nakładanie maski na obraz o określonej z góry jasności:"
   ]
  },
  {
   "cell_type": "code",
   "execution_count": null,
   "metadata": {
    "scrolled": true
   },
   "outputs": [],
   "source": [
    "# Masking an image\n",
    "image = data.camera()\n",
    "\n",
    "subplot(121); imshow(image, cmap='gray'); title('Original')\n",
    "mask = image < 100\n",
    "image[mask] = 255\n",
    "\n",
    "subplot(122); imshow(image, cmap='gray'); title('Masked image')\n",
    "show()"
   ]
  },
  {
   "cell_type": "markdown",
   "metadata": {},
   "source": [
    "Wykorzystanie filtrów uśredniających Gaussa o różnym stopniu rozmycia:"
   ]
  },
  {
   "cell_type": "code",
   "execution_count": null,
   "metadata": {
    "scrolled": true
   },
   "outputs": [],
   "source": [
    "# Gaussian filter\n",
    "image = misc.face(gray=True)\n",
    "gaussian3 = ndimage.gaussian_filter(image, sigma=3)\n",
    "gaussian5 = ndimage.gaussian_filter(image, sigma=5)\n",
    "\n",
    "subplot(131); imshow(image, cmap='gray'); title('Original')\n",
    "subplot(132); imshow(gaussian3, cmap='gray'); title('Gaussian, sigma=3')\n",
    "subplot(133); imshow(gaussian5, cmap='gray'); title('Gaussian, sigma=5')\n",
    "show()"
   ]
  }
 ],
 "metadata": {
  "kernelspec": {
   "display_name": "Python 3",
   "language": "python",
   "name": "python3"
  },
  "language_info": {
   "codemirror_mode": {
    "name": "ipython",
    "version": 3
   },
   "file_extension": ".py",
   "mimetype": "text/x-python",
   "name": "python",
   "nbconvert_exporter": "python",
   "pygments_lexer": "ipython3",
   "version": "3.8.3"
  }
 },
 "nbformat": 4,
 "nbformat_minor": 4
}
