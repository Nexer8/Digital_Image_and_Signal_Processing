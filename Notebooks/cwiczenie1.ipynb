{
 "cells": [
  {
   "cell_type": "markdown",
   "metadata": {},
   "source": [
    "# Cyfrowe przetwarzanie obrazów i sygnałów\n",
    "## Ćwiczenie 1  \n",
    "Celem ćwiczenia jest praktyczne wypróbowanie funkcji numpy.ffti numpy.ifft do wyznaczania prostej i odwrotnej transformaty Fouriera [1, 3].\n",
    "### Autorzy: \n",
    " Kinga Marek 235 280,  \n",
    " Mariusz Wiśniewski 241 393"
   ]
  },
  {
   "cell_type": "markdown",
   "metadata": {},
   "source": [
    "### Zadanie 1  \n",
    "Napisz skrypt w Pythonie/Matlabie umożliwiający wczytywanie i wizualizację badanych sygnałów.\n",
    "Program powinien umożliwiać obserwowanie wycinka sygnału dla zadanego przedziału czasowego, skalowanie osi\n",
    "wykresów i ich opis oraz zapis dowolnego wycinka sygnału do pliku o podanej nazwie.\n"
   ]
  },
  {
   "cell_type": "code",
   "execution_count": null,
   "metadata": {
    "scrolled": false
   },
   "outputs": [],
   "source": [
    "import matplotlib.pyplot as plt\n",
    "import numpy as np\n",
    "import mpld3\n",
    "mpld3.enable_notebook()\n",
    "\n",
    "frequency = 1000  # set the frequency to 1000 Hz\n",
    "\n",
    "data = np.loadtxt(\"Data/ekg1.txt\", delimiter=\" \")\n",
    "ecg_data = np.hsplit(data, 12)\n",
    "\n",
    "time = np.arange(len(ecg_data[0])) / frequency  # Create a set of time measurements\n",
    "\n",
    "for i, ecg in enumerate(ecg_data):\n",
    "    plt.rcParams['figure.figsize']=[10, 8]\n",
    "    plt.plot(time, ecg)\n",
    "    plt.xlabel(\"time [s]\")\n",
    "    plt.ylabel(\"ECG [mV]\")\n",
    "    # plt.xlim(0, 0.1)  # select just a part of x axis to render\n",
    "    # plt.ylim(0, 200)  # select just a part of y axis to render\n",
    "    plt.savefig(f\"Results/graph{i}.png\")\n",
    "    plt.show()"
   ]
  },
  {
   "cell_type": "markdown",
   "metadata": {},
   "source": [
    "#### Uwaga\n",
    "\n",
    "Zapis poszczególnych wykresów do pliku (uwzględniający skalowanie i wybranie nazwy pliku) możliwy jest tylko przy wywołaniu skryptu poza jupyterem."
   ]
  },
  {
   "cell_type": "code",
   "execution_count": null,
   "metadata": {},
   "outputs": [],
   "source": []
  }
 ],
 "metadata": {
  "kernelspec": {
   "display_name": "Python 3",
   "language": "python",
   "name": "python3"
  },
  "language_info": {
   "codemirror_mode": {
    "name": "ipython",
    "version": 3
   },
   "file_extension": ".py",
   "mimetype": "text/x-python",
   "name": "python",
   "nbconvert_exporter": "python",
   "pygments_lexer": "ipython3",
   "version": "3.8.2"
  }
 },
 "nbformat": 4,
 "nbformat_minor": 4
}
