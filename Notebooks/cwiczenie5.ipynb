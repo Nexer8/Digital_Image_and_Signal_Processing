{
 "cells": [
  {
   "cell_type": "markdown",
   "metadata": {},
   "source": [
    "# Cyfrowe przetwarzanie obrazów i sygnałów\n",
    "## Ćwiczenie 5  \n",
    "Celem ćwiczenia jest wyświetlanie oraz zapisywanie obrazów na dysku wykorzystując bibliotekę sickit-image w pythonie.\n",
    "### Autorzy: \n",
    " Kinga Marek 235 280,  \n",
    " Mariusz Wiśniewski 241 393"
   ]
  },
  {
   "cell_type": "markdown",
   "metadata": {},
   "source": [
    "### Zadanie 1\n",
    "Napisz skrypt w Pythonie/Matlabie umożliwiający wczytywanie i wizualizację badanych obrazów. Program powinien umożliwiać wyświetlanie obrazu\n",
    "wczytanego z pliku o podanej nazwie, wybór podobrazu (prostokątnego obszaru) o\n",
    "podanych współrzędnych oraz jego zapis do zadanego pliku."
   ]
  },
  {
   "cell_type": "markdown",
   "metadata": {},
   "source": [
    "Biblioteki wykorzystywane w ćwiczeniu:"
   ]
  },
  {
   "cell_type": "code",
   "execution_count": null,
   "metadata": {},
   "outputs": [],
   "source": [
    "import os\n",
    "import skimage\n",
    "from skimage import io, img_as_uint\n",
    "from matplotlib.pyplot import imshow, title, show, savefig"
   ]
  },
  {
   "cell_type": "markdown",
   "metadata": {},
   "source": [
    "Właściwy skrypt zapisujący zarówno figurę wygenerowaną przez matplotlib.pyplot jak i sam obrazek:"
   ]
  },
  {
   "cell_type": "code",
   "execution_count": null,
   "metadata": {},
   "outputs": [],
   "source": [
    "image = io.imread(os.path.join(skimage.data_dir, 'coins.png'))\n",
    "\n",
    "imshow(image, cmap='gray'), title('Original image')\n",
    "io.imsave('./Data/images/' + 'coins.png', img_as_uint(image))    # save the image\n",
    "savefig('./Data/images/' + 'coins_fig.png')     # save the figure\n",
    "show()"
   ]
  },
  {
   "cell_type": "markdown",
   "metadata": {},
   "source": [
    "#### Uwaga\n",
    "\n",
    "Zapis poszczególnych wykresów do pliku (uwzględniający skalowanie i wybranie nazwy pliku) możliwy jest tylko przy wywołaniu skryptu poza jupyterem."
   ]
  }
 ],
 "metadata": {
  "kernelspec": {
   "display_name": "Python 3",
   "language": "python",
   "name": "python3"
  },
  "language_info": {
   "codemirror_mode": {
    "name": "ipython",
    "version": 3
   },
   "file_extension": ".py",
   "mimetype": "text/x-python",
   "name": "python",
   "nbconvert_exporter": "python",
   "pygments_lexer": "ipython3",
   "version": "3.8.3"
  }
 },
 "nbformat": 4,
 "nbformat_minor": 4
}
