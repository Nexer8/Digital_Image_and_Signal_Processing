{
 "cells": [
  {
   "cell_type": "markdown",
   "metadata": {},
   "source": [
    "# Cyfrowe przetwarzanie obrazów i sygnałów\n",
    "## Ćwiczenie 8  \n",
    "Celem ćwiczenia jest zbadanie skuteczności redukcji szumu typu \"sól i pieprz\" za pomocą filtracji dolnoprzepustowej.\n",
    "### Autorzy: \n",
    " Kinga Marek 235 280,  \n",
    " Mariusz Wiśniewski 241 393"
   ]
  },
  {
   "cell_type": "markdown",
   "metadata": {},
   "source": [
    "Biblioteki wykorzystane w ćwiczeniu:"
   ]
  },
  {
   "cell_type": "code",
   "execution_count": null,
   "metadata": {},
   "outputs": [],
   "source": [
    "import os\n",
    "import skimage\n",
    "from skimage import io, filters\n",
    "from matplotlib.pyplot import subplot, imshow, title, show, rcParams\n",
    "rcParams['figure.figsize'] = [10, 10]"
   ]
  },
  {
   "cell_type": "markdown",
   "metadata": {},
   "source": [
    "Załadowanie obrazu:"
   ]
  },
  {
   "cell_type": "code",
   "execution_count": null,
   "metadata": {},
   "outputs": [],
   "source": [
    "image = io.imread(os.path.join(skimage.data_dir, 'grass.png'))"
   ]
  },
  {
   "cell_type": "markdown",
   "metadata": {},
   "source": [
    "### Zadanie 1\n",
    "Zbadaj skuteczność redukcji szumu typu „sól i pieprz” za pomocą liniowego filtra uśredniającego z kwadratową maską, rozpoczynając od maski rozmiaru 3 × 3."
   ]
  },
  {
   "cell_type": "code",
   "execution_count": null,
   "metadata": {},
   "outputs": [],
   "source": [
    "# a) averaging filters\n",
    "gaussian3 = filters.gaussian(image, sigma=3)\n",
    "gaussian5 = filters.gaussian(image, sigma=5)\n",
    "gaussian7 = filters.gaussian(image, sigma=7)\n",
    "\n",
    "subplot(141), imshow(image, cmap='gray'), title('Original')\n",
    "subplot(142), imshow(gaussian3, cmap='gray'), title('Gaussian, sigma=3')\n",
    "subplot(143), imshow(gaussian5, cmap='gray'), title('Gaussian, sigma=5')\n",
    "subplot(144), imshow(gaussian7, cmap='gray'), title('Gaussian, sigma=7')\n",
    "show()"
   ]
  },
  {
   "cell_type": "markdown",
   "metadata": {},
   "source": [
    "Łatwo zauważyć regułę - im większy rozmiar maski kwadratowej, tym większa redukcja szumu lub rozmycie obrazu."
   ]
  },
  {
   "cell_type": "markdown",
   "metadata": {},
   "source": [
    "### Zadanie 2\n",
    "Zbadaj skuteczność redukcji szumu typu „sól i pieprz” za pomocą nieliniowego filtra medianowego."
   ]
  },
  {
   "cell_type": "code",
   "execution_count": null,
   "metadata": {},
   "outputs": [],
   "source": [
    "# b) median filter\n",
    "median = filters.median(image)\n",
    "\n",
    "subplot(121), imshow(image, cmap='gray'), title('Original')\n",
    "subplot(122), imshow(median, cmap='gray'), title('Median filter applied')\n",
    "show()"
   ]
  }
 ],
 "metadata": {
  "kernelspec": {
   "display_name": "Python 3",
   "language": "python",
   "name": "python3"
  },
  "language_info": {
   "codemirror_mode": {
    "name": "ipython",
    "version": 3
   },
   "file_extension": ".py",
   "mimetype": "text/x-python",
   "name": "python",
   "nbconvert_exporter": "python",
   "pygments_lexer": "ipython3",
   "version": "3.8.3"
  }
 },
 "nbformat": 4,
 "nbformat_minor": 4
}
