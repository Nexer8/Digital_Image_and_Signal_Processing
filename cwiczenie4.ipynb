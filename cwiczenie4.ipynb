{
 "cells": [
  {
   "cell_type": "markdown",
   "metadata": {},
   "source": [
    "# Cyfrowe przetwarzanie obrazów i sygnałów\n",
    "## Ćwiczenie 4 \n",
    "Celem ćwiczenia jest praktyczne wypróbowanie działania filtrów w celu wyeliminowania niepożądanych zakłóceń z sygnału EKG. Proszę wybrać rodzaj filtra do eksperymentowania, np. Butterwortha lub Czebyszewa. Do filtracji wykorzystać gotowe funkcje z biblioteki scipy.signal. Biblioteka posiada również funkcje wspomagające projektowanie filtrów, które można zastosować.\n",
    "### Autorzy: \n",
    " Kinga Marek 235 280,  \n",
    " Mariusz Wiśniewski 241 393"
   ]
  },
  {
   "cell_type": "markdown",
   "metadata": {},
   "source": [
    "### Zadanie 1  \n",
    "\n",
    "Wczytaj sygnał ekgnoise.txt i zauważ zakłócenia nałożone na sygnał. Wykreślić częstotliwościową charakterystykę amplitudową sygnału."
   ]
  },
  {
   "cell_type": "code",
   "execution_count": null,
   "metadata": {},
   "outputs": [],
   "source": [
    "import matplotlib.pyplot as plt\n",
    "import numpy as np \n",
    "import mpld3\n",
    "mpld3.enable_notebook()\n",
    "\n",
    "fs = 360 \n",
    "data = np.loadtxt(\"Data/ekg_noise.txt\")\n",
    "data = np.hsplit(data, 2)\n",
    "\n",
    "plt.rcParams['figure.figsize']=[12,8]\n",
    "plt.plot(data[0], data[1])\n",
    "plt.xlabel(\"time [s]\")\n",
    "plt.ylabel(\"ECG [mV]\")\n",
    "plt.title(\"Wczytany sygnał\")\n",
    "plt.show()\n",
    "\n",
    "fft_amplitude = np.abs(np.fft.fft(data[1]))\n",
    "fft_freq = np.fft.fftfreq(len(data[1]), 1/fs)\n",
    "\n",
    "plt.rcParams['figure.figsize']=[12,8]\n",
    "plt.plot(fft_freq, fft_amplitude)\n",
    "plt.title('Signal frequency spectrum')\n",
    "plt.xlabel('Frequency [Hz]')\n",
    "plt.ylabel('Amplitude')\n",
    "plt.show()"
   ]
  },
  {
   "cell_type": "markdown",
   "metadata": {},
   "source": [
    "### Zadanie 3\n",
    "\n",
    "Zbadaj filtr dolnoprzepustowy o częstotliwości granicznej 60 Hz w celu redukcji zakłóceń pochodzących z sieci zasilającej.  Wyznacz parametry filtra, wykreśl jego charakterystykę (zależność tłumienia od częstotliwości), przebieg sygnału po filtracji oraz jego widmo.  Można też wyznaczyć różnicę między sygnałem przed i po filtracji i widmo tej różnicy."
   ]
  },
  {
   "cell_type": "code",
   "execution_count": null,
   "metadata": {
    "scrolled": false
   },
   "outputs": [],
   "source": [
    "import numpy as np\n",
    "from scipy.signal import butter, lfilter, freqz\n",
    "\n",
    "def butter_coefficients(cutoff, fs, btype, order=5):\n",
    "    nyq = 0.5 * fs\n",
    "    normal_cutoff = cutoff / nyq\n",
    "    b, a = butter(order, normal_cutoff, btype=btype, analog=False)\n",
    "    return b, a\n",
    "\n",
    "def butter_filter(data, cutoff, fs, btype, order=5):\n",
    "    b, a = butter_coefficients(cutoff, fs, btype, order=order)\n",
    "    y = lfilter(b, a, data)\n",
    "    return y\n",
    "\n",
    "# filter requirements\n",
    "fs = 360.0       \n",
    "cutoff = 60\n",
    "\n",
    "# Get the filter coefficients so we can check its frequency response.\n",
    "b, a = butter_coefficients(cutoff, fs, 'lowpass')\n",
    "\n",
    "# Plot the frequency response.\n",
    "w, h = freqz(b, a)\n",
    "plt.subplot(2, 1, 1)\n",
    "plt.plot(0.5*fs*w/np.pi, np.abs(h), 'b')\n",
    "plt.plot(cutoff, 0.5*np.sqrt(2), 'ko')\n",
    "plt.axvline(cutoff, color='k')\n",
    "plt.xlim(0, 0.5*fs)\n",
    "plt.title(\"Lowpass Filter Frequency Response\")\n",
    "plt.xlabel('Frequency [Hz]')\n",
    "plt.grid()\n",
    "\n",
    "# Demonstrate the use of the filter.\n",
    "y = butter_filter(data[1], cutoff, fs, 'lowpass')\n",
    "\n",
    "plt.subplot(2, 1, 2)\n",
    "plt.plot(data[0], data[1], 'b-', label='data')\n",
    "plt.plot(data[0], y, 'g-', linewidth=2, label='filtered data')\n",
    "plt.xlabel('Time [sec]')\n",
    "plt.grid()\n",
    "plt.legend()\n",
    "\n",
    "plt.subplots_adjust(hspace=0.35)\n",
    "plt.show()"
   ]
  },
  {
   "cell_type": "markdown",
   "metadata": {},
   "source": [
    "### Zadanie 3\n",
    "\n",
    "Zastosuj następnie, do sygnału otrzymanego w punkcie 2, filtr górnoprzepustowyo częstotliwości granicznej 5 Hz w celu eliminacji pływania linii izoelektrycznej.Sporządź wykresy sygnałów jak w punkcie 2.\n"
   ]
  },
  {
   "cell_type": "code",
   "execution_count": null,
   "metadata": {
    "scrolled": false
   },
   "outputs": [],
   "source": [
    "# Change some filter requirements  \n",
    "cutoff = 5\n",
    "\n",
    "# Get the filter coefficients so we can check its frequency response.\n",
    "b, a = butter_coefficients(cutoff, fs, 'highpass')\n",
    "\n",
    "plt.subplots_adjust(hspace=0.9)\n",
    "plt.rcParams['figure.figsize']=[10,8]\n",
    "\n",
    "# Plot the frequency response.\n",
    "w, h = freqz(b, a)\n",
    "plt.subplot(3, 1, 1)\n",
    "plt.plot(0.5*fs*w/np.pi, np.abs(h), 'b')\n",
    "plt.plot(cutoff, 0.5*np.sqrt(2), 'ko')\n",
    "plt.axvline(cutoff, color='k')\n",
    "plt.xlim(0, 0.5*fs)\n",
    "plt.title(\"Highpass Filter Frequency Response\")\n",
    "plt.xlabel('Frequency [Hz]')\n",
    "plt.grid()\n",
    "\n",
    "# Demonstrate the use of the filter.\n",
    "double_filtered_y = butter_filter(y, cutoff, fs, 'highpass')\n",
    "\n",
    "plt.subplot(3, 1, 2)\n",
    "plt.plot(data[0], y, 'b-', label='data')\n",
    "plt.plot(data[0], double_filtered_y, 'g-', linewidth=2, label='filtered data')\n",
    "plt.xlabel('Time [sec]')\n",
    "plt.grid()\n",
    "plt.legend()\n",
    "\n",
    "fft_amplitude2 = np.abs(np.fft.fft(y-double_filtered_y))\n",
    "fft_amplitude2_diff = np.abs(np.fft.fft(y))\n",
    "\n",
    "plt.subplot(3, 1, 3)\n",
    "plt.plot(fft_freq, fft_amplitude2_diff, 'b-', label='data')\n",
    "plt.plot(fft_freq, fft_amplitude2, 'g-', linewidth=2, label='filtered data')\n",
    "plt.title('Signal frequency spectrum')\n",
    "plt.xlabel('Frequency [Hz]')\n",
    "plt.ylabel('Amplitude')\n",
    "plt.grid()\n",
    "plt.legend()\n",
    "\n",
    "plt.show()"
   ]
  },
  {
   "cell_type": "code",
   "execution_count": null,
   "metadata": {
    "scrolled": true
   },
   "outputs": [],
   "source": []
  }
 ],
 "metadata": {
  "kernelspec": {
   "display_name": "Python 3",
   "language": "python",
   "name": "python3"
  },
  "language_info": {
   "codemirror_mode": {
    "name": "ipython",
    "version": 3
   },
   "file_extension": ".py",
   "mimetype": "text/x-python",
   "name": "python",
   "nbconvert_exporter": "python",
   "pygments_lexer": "ipython3",
   "version": "3.8.2"
  }
 },
 "nbformat": 4,
 "nbformat_minor": 4
}
