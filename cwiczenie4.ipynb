{
 "cells": [
  {
   "cell_type": "markdown",
   "metadata": {},
   "source": [
    "# Cyfrowe przetwarzanie obrazów i sygnałów\n",
    "## Ćwiczenie 4 \n",
    "Celem ćwiczenia jest praktyczne wypróbowanie działania filtrów w celu wyeliminowania niepożądanych zakłóceń z sygnału EKG. Proszę wybrać rodzaj filtra do eksperymentowania, np. Butterwortha lub Czebyszewa. Do filtracji wykorzystać gotowe funkcje z biblioteki scipy.signal. Biblioteka posiada również funkcje wspomagające projektowanie filtrów, które można zastosować.\n",
    "### Autorzy: \n",
    " Kinga Marek 235 280,  \n",
    " Mariusz Wiśniewski 241 393"
   ]
  },
  {
   "cell_type": "markdown",
   "metadata": {},
   "source": [
    "### Zadanie 1  \n",
    "\n",
    "Wczytaj sygnał ekgnoise.txt i zauważ zakłócenia nałożone na sygnał. Wykreślić częstotliwościową charakterystykę amplitudową sygnału."
   ]
  },
  {
   "cell_type": "code",
   "execution_count": null,
   "metadata": {},
   "outputs": [],
   "source": [
    "import matplotlib.pyplot as plt\n",
    "import numpy as np \n",
    "import mpld3\n",
    "mpld3.enable_notebook()\n",
    "\n",
    "fs = 360 \n",
    "data = np.loadtxt(\"Data/ekg_noise.txt\")\n",
    "data = np.hsplit(data, 2)\n",
    "\n",
    "plt.rcParams['figure.figsize']=[12,8]\n",
    "plt.plot(data[0], data[1])\n",
    "plt.xlabel(\"time [s]\")\n",
    "plt.ylabel(\"ECG [mV]\")\n",
    "plt.title(\"Wczytany sygnał\")\n",
    "plt.show()\n",
    "\n",
    "fft_amplitude = np.abs(np.fft.fft(data[1]))\n",
    "fft_freq = np.abs(np.fft.fftfreq(len(data[1]), 1/fs))\n",
    "\n",
    "plt.rcParams['figure.figsize']=[10,8]\n",
    "plt.plot(fft_freq, fft_amplitude)\n",
    "plt.title('Signal frequency spectrum')\n",
    "plt.xlabel('Frequency [Hz]')\n",
    "plt.ylabel('Amplitude')\n",
    "plt.show()"
   ]
  },
  {
   "cell_type": "markdown",
   "metadata": {},
   "source": [
    "### Zadanie 3\n",
    "\n",
    "Zbadaj filtr dolnoprzepustowy o częstotliwości granicznej 60 Hz w celu redukcji zakłóceń pochodzących z sieci zasilającej.  Wyznacz parametry filtra, wykreśl jego charakterystykę (zależność tłumienia od częstotliwości), przebieg sygnału po filtracji oraz jego widmo.  Można też wyznaczyć różnicę między sygnałem przed i po filtracji i widmo tej różnicy."
   ]
  },
  {
   "cell_type": "code",
   "execution_count": null,
   "metadata": {
    "scrolled": false
   },
   "outputs": [],
   "source": [
    "from scipy import signal\n",
    "\n",
    "# wp and ws are normalized using Nyquist frequency (fs/2)\n",
    "wp = 1/(fs/2) # passband frequency cutoff\n",
    "ws = 60/(fs/2) # stopband frequency cutoff\n",
    "\n",
    "# in decibels, loss and attenatuation in passband/stopband\n",
    "gpass = 3\n",
    "gstop = 15\n",
    "\n",
    "# fit order and critical frequencies to the requirements\n",
    "N, Wn = signal.cheb1ord(wp, ws, gpass, gstop, analog=False, fs=fs) \n",
    "# get the filter coefficients so we can check its frequency response.\n",
    "b, a = signal.cheby1(N, 1, Wn, btype='lowpass')\n",
    "# get the filter to filter the signal later\n",
    "fil = signal.cheby1(N, 1, Wn, btype='lowpass', output = 'sos', fs=fs) \n",
    "# compute the frequency response of a digital filter\n",
    "w, h = signal.freqz(b, a)\n",
    "\n",
    "plt.plot(0.5*fs*w/np.pi, np.abs(h))\n",
    "plt.plot(60, 0.5*np.sqrt(2), 'ko')\n",
    "plt.title('Chebyshev I lowpass filter fit to constraints')\n",
    "plt.xlabel('Normalized frequency')\n",
    "plt.ylabel('Amplitude [dB]')\n",
    "plt.grid(which='both', axis='both')\n",
    "plt.show()\n",
    "\n",
    "#plt.plot(w *(max(w)), abs(h))\n",
    "#plt.title('Chebyshev I lowpass filter fit to constraints')\n",
    "#plt.xlabel('Normalized frequency')\n",
    "#plt.ylabel('Amplitude [dB]')\n",
    "#plt.grid(which='both', axis='both')\n",
    "#plt.show()\n",
    "\n",
    "filtered = signal.sosfilt(fil, data[1])\n",
    "plt.rcParams['figure.figsize']=[12,8]\n",
    "plt.plot(data[0], filtered)\n",
    "plt.xlabel(\"time [s]\")\n",
    "plt.ylabel(\"ECG [mV]\")\n",
    "plt.title(\"Wczytany sygnał\")\n",
    "plt.show()\n",
    "plt.rcParams['figure.figsize']=[12,8]\n",
    "plt.plot(data[0], data[1]-filtered)\n",
    "plt.xlabel(\"time [s]\")\n",
    "plt.ylabel(\"ECG [mV]\")\n",
    "plt.title(\"Wczytany sygnał\")\n",
    "plt.show()"
   ]
  },
  {
   "cell_type": "markdown",
   "metadata": {},
   "source": [
    "### Zadanie 3\n",
    "\n",
    "Zastosuj następnie, do sygnału otrzymanego w punkcie 2, filtr górnoprzepustowyo częstotliwości granicznej 5 Hz w celu eliminacji pływania linii izoelektrycznej.Sporządź wykresy sygnałów jak w punkcie 2.\n"
   ]
  },
  {
   "cell_type": "code",
   "execution_count": null,
   "metadata": {
    "scrolled": false
   },
   "outputs": [],
   "source": [
    "# wp and ws are normalized using Nyquist frequency (fs/2)\n",
    "wp = 5/(fs/2) # passband frequency cutoff\n",
    "ws = 1/(fs/2) # stopband frequency cutoff\n",
    "\n",
    "# in decibels, loss and attenatuation in passband/stopband\n",
    "gpass = 3\n",
    "gstop = 10\n",
    "\n",
    "# fit order and critical frequencies to the requirements\n",
    "N, Wn = signal.cheb1ord(wp, ws, gpass, gstop, analog=False, fs=fs) \n",
    "# design Chebyshev type 1 filter\n",
    "b, a = signal.cheby1(N, 1, Wn, btype='highpass')\n",
    "fil = signal.cheby1(N, 1, Wn, btype='highpass', output = 'sos', fs=fs) \n",
    "# compute the frequency response of a digital filter\n",
    "w, h = signal.freqz(b, a)\n",
    "\n",
    "plt.plot(w, 20*np.log10(abs(h)))\n",
    "plt.title('Chebyshev I lowpass filter fit to constraints')\n",
    "plt.xlabel('Normalized frequency')\n",
    "plt.ylabel('Amplitude [dB]')\n",
    "plt.grid(which='both', axis='both')\n",
    "plt.show()\n",
    "\n",
    "#plt.plot(w *(max(w)), abs(h))\n",
    "#plt.title('Chebyshev I lowpass filter fit to constraints')\n",
    "#plt.xlabel('Normalized frequency')\n",
    "#plt.ylabel('Amplitude [dB]')\n",
    "#plt.grid(which='both', axis='both')\n",
    "#plt.show()\n",
    "\n",
    "filtered2 = signal.sosfilt(fil, filtered)\n",
    "\n",
    "fft_amplitude = np.abs(np.fft.fft(filtered2))\n",
    "fft_freq = np.abs(np.fft.fftfreq(len(data[1]), 1/fs))\n",
    "\n",
    "plt.rcParams['figure.figsize']=[10,8]\n",
    "plt.plot(fft_freq, fft_amplitude)\n",
    "plt.title('Signal frequency spectrum')\n",
    "plt.xlabel('Frequency [Hz]')\n",
    "plt.ylabel('Amplitude')\n",
    "plt.show()"
   ]
  },
  {
   "cell_type": "code",
   "execution_count": null,
   "metadata": {
    "scrolled": true
   },
   "outputs": [],
   "source": []
  }
 ],
 "metadata": {
  "kernelspec": {
   "display_name": "Python 3",
   "language": "python",
   "name": "python3"
  },
  "language_info": {
   "codemirror_mode": {
    "name": "ipython",
    "version": 3
   },
   "file_extension": ".py",
   "mimetype": "text/x-python",
   "name": "python",
   "nbconvert_exporter": "python",
   "pygments_lexer": "ipython3",
   "version": "3.8.2"
  }
 },
 "nbformat": 4,
 "nbformat_minor": 4
}
