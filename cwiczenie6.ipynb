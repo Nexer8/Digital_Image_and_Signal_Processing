{
 "cells": [
  {
   "cell_type": "markdown",
   "metadata": {},
   "source": [
    "# Cyfrowe przetwarzanie obrazów i sygnałów\n",
    "## Ćwiczenie 6  \n",
    "Celem ćwiczenia jest zastosowanie przekształceń punktowych na załadowanych obrazach i zaobserwowanie ich działania.\n",
    "### Autorzy: \n",
    " Kinga Marek 235 280,  \n",
    " Mariusz Wiśniewski 241 393"
   ]
  },
  {
   "cell_type": "markdown",
   "metadata": {},
   "source": [
    "Biblioteki wykorzystane w ćwiczeniu:"
   ]
  },
  {
   "cell_type": "code",
   "execution_count": null,
   "metadata": {},
   "outputs": [],
   "source": [
    "import os\n",
    "import skimage\n",
    "from skimage import io\n",
    "from matplotlib.pyplot import subplot, imshow, title, show, subplots_adjust, rcParams\n",
    "rcParams['figure.figsize'] = [10, 10]"
   ]
  },
  {
   "cell_type": "markdown",
   "metadata": {},
   "source": [
    "Parametry wykorzystane w ćwiczeniu:"
   ]
  },
  {
   "cell_type": "code",
   "execution_count": null,
   "metadata": {},
   "outputs": [],
   "source": [
    "constant = 1.5\n",
    "m = 0.45\n",
    "e = 8\n",
    "gamma = 0.67"
   ]
  },
  {
   "cell_type": "markdown",
   "metadata": {},
   "source": [
    "Funkcje wykorzystane w ćwiczeniu:"
   ]
  },
  {
   "cell_type": "code",
   "execution_count": null,
   "metadata": {},
   "outputs": [],
   "source": [
    "def point_operation(img, method):\n",
    "    for row in range(0, img.shape[0]):\n",
    "        for col in range(0, img.shape[1]):\n",
    "            temp = method(img[row][col])\n",
    "            if temp > 255:\n",
    "                img[row][col] = 255\n",
    "            elif temp < 0:\n",
    "                img[row][col] = 0\n",
    "            else:\n",
    "                img[row][col] = temp\n",
    "    return img\n",
    "\n",
    "\n",
    "def multiply(val):\n",
    "    return val * constant\n",
    "\n",
    "\n",
    "def change_dynamic_range(val):\n",
    "    if val == 0:\n",
    "        return 1\n",
    "    else:\n",
    "        return 1 / (1 + (m / val) ** e)\n",
    "\n",
    "\n",
    "def gamma_correction(val):\n",
    "    return constant * (val ** gamma)"
   ]
  },
  {
   "cell_type": "markdown",
   "metadata": {},
   "source": [
    "Załadowanie obrazu:"
   ]
  },
  {
   "cell_type": "code",
   "execution_count": null,
   "metadata": {},
   "outputs": [],
   "source": [
    "image = io.imread(os.path.join(skimage.data_dir, 'camera.png'))"
   ]
  },
  {
   "cell_type": "markdown",
   "metadata": {},
   "source": [
    "### Zadanie 1  \n",
    "Mnożenie obrazu przez stałą T(r) = c · r, gdzie c jest stałą."
   ]
  },
  {
   "cell_type": "code",
   "execution_count": null,
   "metadata": {},
   "outputs": [],
   "source": [
    "multiplied1 = point_operation(image.copy(), multiply)\n",
    "\n",
    "constant = 3.0\n",
    "multiplied2 = point_operation(image.copy(), multiply)\n",
    "\n",
    "constant = 0.02\n",
    "multiplied3 = point_operation(image.copy(), multiply)\n",
    "\n",
    "subplot(141), imshow(image, cmap='gray'), title('Original')\n",
    "subplot(142), imshow(multiplied1, cmap='gray'), title('c=1.5')\n",
    "subplot(143), imshow(multiplied2, cmap='gray'), title('c=3.0')\n",
    "subplot(144), imshow(multiplied3, cmap='gray'), title('c=0.02')\n",
    "show()"
   ]
  },
  {
   "cell_type": "markdown",
   "metadata": {},
   "source": [
    "### Zadanie 2\n",
    "\n",
    "Zmianę dynamiki skali szarości (kontrastu). Możesz zastosować transformację\n",
    "o postaci: <img src=\"https://latex.codecogs.com/svg.latex?T(r)&space;=&space;\\frac{1}{1&plus;(m/r)^{e}}\" title=\"T(r) = \\frac{1}{1+(m/r)^{e}}\" />,\n",
    "gdzie m i e są ustalonymi parametrami przekształcenia (np. m = 0,45, e = 8).\n",
    "Wykreśl T(r), by lepiej uwidocznić wpływ T na kontrast obrazu wyjściowego.\n",
    "Przeprowadź eksperymenty z różnymi wartościami parametrów m i e."
   ]
  },
  {
   "cell_type": "code",
   "execution_count": null,
   "metadata": {},
   "outputs": [],
   "source": [
    "changed_dynamic1 = point_operation(image.copy(), change_dynamic_range)\n",
    "\n",
    "m = 0.2\n",
    "changed_dynamic2 = point_operation(image.copy(), change_dynamic_range)\n",
    "\n",
    "m = 0.8\n",
    "changed_dynamic3 = point_operation(image.copy(), change_dynamic_range)\n",
    "\n",
    "m = 0.45\n",
    "e = 2\n",
    "changed_dynamic4 = point_operation(image.copy(), change_dynamic_range)\n",
    "\n",
    "e = 12\n",
    "changed_dynamic5 = point_operation(image.copy(), change_dynamic_range)\n",
    "\n",
    "subplot(231), imshow(image, cmap='gray'), title('Original')\n",
    "subplot(232), imshow(changed_dynamic1, cmap='gray'), title('m=0.45, e=8')\n",
    "subplot(233), imshow(changed_dynamic2, cmap='gray'), title('m=0.2, e=8')\n",
    "subplot(234), imshow(changed_dynamic3, cmap='gray'), title('m=0.8, e=8')\n",
    "subplot(235), imshow(changed_dynamic4, cmap='gray'), title('m=0.45, e=2')\n",
    "subplot(236), imshow(changed_dynamic5, cmap='gray'), title('m=0.45, e=12')\n",
    "show()"
   ]
  },
  {
   "cell_type": "markdown",
   "metadata": {},
   "source": [
    "### Zadanie 3\n",
    "Korekcję gamma, zdefiniowaną jako <img src=\"https://latex.codecogs.com/svg.latex?s&space;=&space;c*r^{\\gamma}\" title=\"s = c*r^{\\gamma}\" />, gdzie c > 0 i γ > 0 są stałymi\n",
    "we wzorze przekształcenia."
   ]
  },
  {
   "cell_type": "code",
   "execution_count": null,
   "metadata": {},
   "outputs": [],
   "source": [
    "constant = 1.5\n",
    "gamma_corrected1 = point_operation(image.copy(), gamma_correction)\n",
    "\n",
    "gamma = 0.3\n",
    "gamma_corrected2 = point_operation(image.copy(), gamma_correction)\n",
    "\n",
    "gamma = 0.1\n",
    "gamma_corrected3 = point_operation(image.copy(), gamma_correction)\n",
    "\n",
    "subplot(141), imshow(image, cmap='gray'), title('Original')\n",
    "subplot(142), imshow(gamma_corrected1, cmap='gray'), title('c=1.5, gamma=0.67')\n",
    "subplot(143), imshow(gamma_corrected2, cmap='gray'), title('c=1.5, gamma=0.3')\n",
    "subplot(144), imshow(gamma_corrected3, cmap='gray'), title('c=1.5, gamma=0.1')\n",
    "show()"
   ]
  }
 ],
 "metadata": {
  "kernelspec": {
   "display_name": "Python 3",
   "language": "python",
   "name": "python3"
  },
  "language_info": {
   "codemirror_mode": {
    "name": "ipython",
    "version": 3
   },
   "file_extension": ".py",
   "mimetype": "text/x-python",
   "name": "python",
   "nbconvert_exporter": "python",
   "pygments_lexer": "ipython3",
   "version": "3.8.3"
  }
 },
 "nbformat": 4,
 "nbformat_minor": 4
}
