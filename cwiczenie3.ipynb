{
 "cells": [
  {
   "cell_type": "markdown",
   "metadata": {},
   "source": [
    "# Cyfrowe przetwarzanie obrazów i sygnałów\n",
    "## Ćwiczenie 3 \n",
    "Celem ćwiczenia jest obserwacja widma sygnału EKG.\n",
    "### Autorzy: \n",
    " Kinga Marek 235 280,  \n",
    " Mariusz Wiśniewski 241 393"
   ]
  },
  {
   "cell_type": "markdown",
   "metadata": {},
   "source": [
    "### Zadanie 1  \n",
    "\n",
    "Wczytać sygnał ecg100.txt i ocenić go wizualnie na wykresie."
   ]
  },
  {
   "cell_type": "code",
   "execution_count": null,
   "metadata": {
    "scrolled": false
   },
   "outputs": [],
   "source": [
    "import matplotlib.pyplot as plt\n",
    "import numpy as np \n",
    "import mpld3\n",
    "mpld3.enable_notebook()\n",
    "\n",
    "fs = 360 \n",
    "\n",
    "data = np.loadtxt(\"Data/ekg100.txt\")\n",
    "time = np.arange(len(data)) / fs  \n",
    "\n",
    "plt.rcParams['figure.figsize']=[12,8]\n",
    "plt.plot(time, data)\n",
    "plt.xlabel(\"time [s]\")\n",
    "plt.ylabel(\"ECG [mV]\")\n",
    "plt.show()"
   ]
  },
  {
   "cell_type": "markdown",
   "metadata": {},
   "source": [
    "### Zadanie 2 \n",
    "\n",
    "Wyznaczyć jego dyskretną transformatę Fouriera i przedstawić widmo amplitudowe sygnału w funkcji częstotliwości w zakresie [0,  fs/2], gdzie fs oznacza częstotliwość próbkowania.\n"
   ]
  },
  {
   "cell_type": "code",
   "execution_count": null,
   "metadata": {
    "scrolled": true
   },
   "outputs": [],
   "source": [
    "fft_freq = np.abs(np.fft.fftfreq(int(fs/2), 1/fs))\n",
    "fft_amplitude = np.abs(np.fft.fft(data, len(fft_freq)))\n",
    "\n",
    "plt.rcParams['figure.figsize']=[10,8]\n",
    "plt.plot(fft_freq, fft_amplitude)\n",
    "plt.title('Signal frequency spectrum')\n",
    "plt.xlabel('Frequency [Hz]')\n",
    "plt.ylabel('Amplitude')\n",
    "plt.show()"
   ]
  },
  {
   "cell_type": "markdown",
   "metadata": {},
   "source": [
    "### Zadanie 3 \n",
    "\n",
    "Wyznaczyć odwrotną dyskretną transformatę Fouriera ciągu wyznaczonego wpunkcie 2 i porównać otrzymany ciąg próbek z pierwotnym sygnałem ecg100(można wyznaczyć różnicę sygnałów)."
   ]
  },
  {
   "cell_type": "code",
   "execution_count": null,
   "metadata": {
    "scrolled": false
   },
   "outputs": [],
   "source": [
    "inv_ekg = np.fft.ifft(fft_amplitude).real\n",
    "\n",
    "plt.subplots_adjust(hspace=0.5)\n",
    "plt.rcParams['figure.figsize']=[8,15]\n",
    "\n",
    "plt.subplot(311)\n",
    "plt.plot(time[0:len(inv_ekg)], inv_ekg)\n",
    "plt.title('Signal after inverse fourier transform')\n",
    "plt.xlabel(\"time [s]\")\n",
    "plt.ylabel(\"ECG [mV]\")\n",
    "\n",
    "plt.subplot(312)\n",
    "plt.plot(time[0:len(inv_ekg)], data[0:len(inv_ekg)])\n",
    "plt.title('Orginal signal')\n",
    "plt.xlabel(\"time [s]\")\n",
    "plt.ylabel(\"ECG [mV]\")\n",
    "\n",
    "signal_difference = []\n",
    "for index in range(len(inv_ekg)):\n",
    "    signal_difference.append(data[index] - inv_ekg[index])\n",
    "\n",
    "plt.subplot(313) \n",
    "plt.plot(time[0:len(inv_ekg)], signal_difference[0:len(inv_ekg)])\n",
    "plt.title('Signal difference')\n",
    "plt.xlabel('Frequency [Hz]')\n",
    "plt.ylabel('Amplitude')"
   ]
  },
  {
   "cell_type": "code",
   "execution_count": null,
   "metadata": {
    "scrolled": true
   },
   "outputs": [],
   "source": []
  }
 ],
 "metadata": {
  "kernelspec": {
   "display_name": "Python 3",
   "language": "python",
   "name": "python3"
  },
  "language_info": {
   "codemirror_mode": {
    "name": "ipython",
    "version": 3
   },
   "file_extension": ".py",
   "mimetype": "text/x-python",
   "name": "python",
   "nbconvert_exporter": "python",
   "pygments_lexer": "ipython3",
   "version": "3.8.2"
  }
 },
 "nbformat": 4,
 "nbformat_minor": 4
}
